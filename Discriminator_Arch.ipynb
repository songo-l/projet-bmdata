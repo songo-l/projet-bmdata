{
 "cells": [
  {
   "cell_type": "code",
   "execution_count": 1,
   "metadata": {},
   "outputs": [],
   "source": [
    "import tensorflow as tf\n",
    "from tensorflow.keras.layers import Conv2D, Lambda, Input, concatenate\n",
    "from tensorflow.keras.models import Sequential"
   ]
  },
  {
   "cell_type": "markdown",
   "metadata": {},
   "source": [
    "## Discriminator model"
   ]
  },
  {
   "cell_type": "code",
   "execution_count": 4,
   "metadata": {},
   "outputs": [
    {
     "name": "stdout",
     "output_type": "stream",
     "text": [
      "Model: \"Discriminator\"\n",
      "_________________________________________________________________\n",
      "Layer (type)                 Output Shape              Param #   \n",
      "=================================================================\n",
      "Conv1 (Conv2D)               (None, 128, 128, 64)      3136      \n",
      "_________________________________________________________________\n",
      "Conv2 (Conv2D)               (None, 64, 64, 128)       131200    \n",
      "_________________________________________________________________\n",
      "Conv3 (Conv2D)               (None, 32, 32, 256)       524544    \n",
      "_________________________________________________________________\n",
      "Conv4 (Conv2D)               (None, 32, 32, 512)       2097664   \n",
      "_________________________________________________________________\n",
      "Conv5 (Conv2D)               (None, 32, 32, 1)         8193      \n",
      "=================================================================\n",
      "Total params: 2,764,737\n",
      "Trainable params: 2,764,737\n",
      "Non-trainable params: 0\n",
      "_________________________________________________________________\n"
     ]
    }
   ],
   "source": [
    "model = Sequential(name = 'Discriminator')\n",
    "model.add(Conv2D( 64,4, padding= \"SAME\", strides = 2,\n",
    "                 kernel_initializer = tf.compat.v1.truncated_normal_initializer(stddev=0.02),\n",
    "                 bias_initializer = tf.constant_initializer(0.0),\n",
    "                 input_shape = (255, 255, 3), \n",
    "                 name = 'Conv1'))\n",
    "model.add(Conv2D( 128, 4, padding= \"SAME\", strides = 2,\n",
    "                 kernel_initializer = tf.compat.v1.truncated_normal_initializer(stddev=0.02),\n",
    "                 bias_initializer = tf.constant_initializer(0.0), \n",
    "                 name = 'Conv2'))\n",
    "model.add(Conv2D( 256, 4, padding= \"SAME\", strides = 2,\n",
    "                 kernel_initializer = tf.compat.v1.truncated_normal_initializer(stddev=0.02),\n",
    "                 bias_initializer = tf.constant_initializer(0.0), \n",
    "                 name = 'Conv3'))\n",
    "model.add(Conv2D( 512, 4, padding= \"SAME\", strides = 1,\n",
    "                 kernel_initializer = tf.compat.v1.truncated_normal_initializer(stddev=0.02),\n",
    "                 bias_initializer = tf.constant_initializer(0.0), \n",
    "                 name = 'Conv4'))\n",
    "model.add(Conv2D( 1, 4, padding= \"SAME\", strides = 1,\n",
    "                 kernel_initializer = tf.compat.v1.truncated_normal_initializer(stddev=0.02),\n",
    "                 bias_initializer = tf.constant_initializer(0.0), \n",
    "                 name = 'Conv5'))\n",
    "model.summary()"
   ]
  },
  {
   "cell_type": "code",
   "execution_count": null,
   "metadata": {},
   "outputs": [],
   "source": []
  }
 ],
 "metadata": {
  "kernelspec": {
   "display_name": "Python 3",
   "language": "python",
   "name": "python3"
  },
  "language_info": {
   "codemirror_mode": {
    "name": "ipython",
    "version": 3
   },
   "file_extension": ".py",
   "mimetype": "text/x-python",
   "name": "python",
   "nbconvert_exporter": "python",
   "pygments_lexer": "ipython3",
   "version": "3.7.4"
  }
 },
 "nbformat": 4,
 "nbformat_minor": 2
}
