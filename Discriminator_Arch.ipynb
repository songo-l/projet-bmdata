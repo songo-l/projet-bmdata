{
 "cells": [
  {
   "cell_type": "code",
   "execution_count": 1,
   "metadata": {},
   "outputs": [
    {
     "name": "stderr",
     "output_type": "stream",
     "text": [
      "/home/xylean/.local/lib/python3.7/site-packages/tensorflow/python/framework/dtypes.py:516: FutureWarning: Passing (type, 1) or '1type' as a synonym of type is deprecated; in a future version of numpy, it will be understood as (type, (1,)) / '(1,)type'.\n",
      "  _np_qint8 = np.dtype([(\"qint8\", np.int8, 1)])\n",
      "/home/xylean/.local/lib/python3.7/site-packages/tensorflow/python/framework/dtypes.py:517: FutureWarning: Passing (type, 1) or '1type' as a synonym of type is deprecated; in a future version of numpy, it will be understood as (type, (1,)) / '(1,)type'.\n",
      "  _np_quint8 = np.dtype([(\"quint8\", np.uint8, 1)])\n",
      "/home/xylean/.local/lib/python3.7/site-packages/tensorflow/python/framework/dtypes.py:518: FutureWarning: Passing (type, 1) or '1type' as a synonym of type is deprecated; in a future version of numpy, it will be understood as (type, (1,)) / '(1,)type'.\n",
      "  _np_qint16 = np.dtype([(\"qint16\", np.int16, 1)])\n",
      "/home/xylean/.local/lib/python3.7/site-packages/tensorflow/python/framework/dtypes.py:519: FutureWarning: Passing (type, 1) or '1type' as a synonym of type is deprecated; in a future version of numpy, it will be understood as (type, (1,)) / '(1,)type'.\n",
      "  _np_quint16 = np.dtype([(\"quint16\", np.uint16, 1)])\n",
      "/home/xylean/.local/lib/python3.7/site-packages/tensorflow/python/framework/dtypes.py:520: FutureWarning: Passing (type, 1) or '1type' as a synonym of type is deprecated; in a future version of numpy, it will be understood as (type, (1,)) / '(1,)type'.\n",
      "  _np_qint32 = np.dtype([(\"qint32\", np.int32, 1)])\n",
      "/home/xylean/.local/lib/python3.7/site-packages/tensorflow/python/framework/dtypes.py:525: FutureWarning: Passing (type, 1) or '1type' as a synonym of type is deprecated; in a future version of numpy, it will be understood as (type, (1,)) / '(1,)type'.\n",
      "  np_resource = np.dtype([(\"resource\", np.ubyte, 1)])\n"
     ]
    }
   ],
   "source": [
    "import tensorflow as tf\n",
    "from tensorflow.keras.layers import Conv2D, Lambda, Input, concatenate\n",
    "from tensorflow.keras.models import Sequential"
   ]
  },
  {
   "cell_type": "markdown",
   "metadata": {},
   "source": [
    "## Discriminator model"
   ]
  },
  {
   "cell_type": "code",
   "execution_count": 6,
   "metadata": {},
   "outputs": [
    {
     "name": "stdout",
     "output_type": "stream",
     "text": [
      "Model: \"Discriminator\"\n",
      "_________________________________________________________________\n",
      "Layer (type)                 Output Shape              Param #   \n",
      "=================================================================\n",
      "Conv1 (Conv2D)               (None, 255, 255, 64)      3136      \n",
      "_________________________________________________________________\n",
      "Conv2 (Conv2D)               (None, 255, 255, 64)      65600     \n",
      "_________________________________________________________________\n",
      "Conv3 (Conv2D)               (None, 255, 255, 64)      65600     \n",
      "_________________________________________________________________\n",
      "Conv4 (Conv2D)               (None, 255, 255, 64)      65600     \n",
      "_________________________________________________________________\n",
      "Conv5 (Conv2D)               (None, 255, 255, 64)      65600     \n",
      "=================================================================\n",
      "Total params: 265,536\n",
      "Trainable params: 265,536\n",
      "Non-trainable params: 0\n",
      "_________________________________________________________________\n"
     ]
    }
   ],
   "source": [
    "model = Sequential(name = 'Discriminator')\n",
    "model.add(Conv2D( 64,4, padding= \"SAME\",\n",
    "                 kernel_initializer = tf.truncated_normal_initializer(stddev=0.02),\n",
    "                 bias_initializer = tf.constant_initializer(0.0),\n",
    "                 input_shape = (255, 255, 3), \n",
    "                 name = 'Conv1'))\n",
    "model.add(Conv2D( 64, 4, padding= \"SAME\",\n",
    "                 kernel_initializer = tf.truncated_normal_initializer(stddev=0.02),\n",
    "                 bias_initializer = tf.constant_initializer(0.0), \n",
    "                 name = 'Conv2'))\n",
    "model.add(Conv2D( 64, 4, padding= \"SAME\",\n",
    "                 kernel_initializer = tf.compat.v1.truncated_normal_initializer(stddev=0.02),\n",
    "                 bias_initializer = tf.constant_initializer(0.0), \n",
    "                 name = 'Conv3'))\n",
    "model.add(Conv2D( 64, 4, padding= \"SAME\",\n",
    "                 kernel_initializer = tf.compat.v1.truncated_normal_initializer(stddev=0.02),\n",
    "                 bias_initializer = tf.constant_initializer(0.0), \n",
    "                 name = 'Conv4'))\n",
    "model.add(Conv2D( 64, 4, padding= \"SAME\",\n",
    "                 kernel_initializer = tf.compat.v1.truncated_normal_initializer(stddev=0.02),\n",
    "                 bias_initializer = tf.constant_initializer(0.0), \n",
    "                 name = 'Conv5'))\n",
    "model.summary()"
   ]
  },
  {
   "cell_type": "code",
   "execution_count": null,
   "metadata": {},
   "outputs": [],
   "source": []
  }
 ],
 "metadata": {
  "kernelspec": {
   "display_name": "Python 3",
   "language": "python",
   "name": "python3"
  },
  "language_info": {
   "codemirror_mode": {
    "name": "ipython",
    "version": 3
   },
   "file_extension": ".py",
   "mimetype": "text/x-python",
   "name": "python",
   "nbconvert_exporter": "python",
   "pygments_lexer": "ipython3",
   "version": "3.7.6"
  }
 },
 "nbformat": 4,
 "nbformat_minor": 2
}
