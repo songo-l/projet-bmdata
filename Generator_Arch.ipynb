{
 "cells": [
  {
   "cell_type": "markdown",
   "metadata": {},
   "source": [
    "# Generator Architecture"
   ]
  },
  {
   "cell_type": "code",
   "execution_count": 5,
   "metadata": {},
   "outputs": [],
   "source": [
    "import tensorflow as tf\n",
    "from tensorflow.keras.layers import Conv2D, Lambda, Input, concatenate\n",
    "from tensorflow.keras.models import Model"
   ]
  },
  {
   "cell_type": "code",
   "execution_count": 15,
   "metadata": {},
   "outputs": [],
   "source": [
    "n_G_filter = 32\n",
    "n_D_filter = 64\n",
    "\n",
    "k_size = 3\n",
    "# Image size 255 * 255 * 3\n",
    "\n",
    "input_G_A = Input(shape = (255, 255, 3), name = 'Input_A')\n",
    "\n",
    "model_G_A1 = Lambda(lambda tensor : tf.pad(tensor,[[0,0],[3,3],[3,3],[0,0]],\"REFLECT\"), \n",
    "                    name = 'Padding_A')(input_G_A)\n",
    "model_G_A2 = Conv2D(filters = n_G_filter, \n",
    "                    kernel_size = 7,\n",
    "                    padding = 'VALID',\n",
    "                    activation=None, \n",
    "                    kernel_initializer = tf.truncated_normal_initializer(stddev=0.02),\n",
    "                    bias_initializer = tf.constant_initializer(0.0), \n",
    "                    name = 'Conv_A1')(model_G_A1)\n",
    "\n",
    "model_G_A3 = Conv2D(filters = n_G_filter * 2, \n",
    "                    kernel_size = k_size,\n",
    "                    strides = 2,\n",
    "                    padding = 'SAME',\n",
    "                    activation=None, \n",
    "                    kernel_initializer = tf.truncated_normal_initializer(stddev=0.02),\n",
    "                    bias_initializer = tf.constant_initializer(0.0),\n",
    "                    name = 'Conv_A2')(model_G_A2)\n",
    "\n",
    "model_G_A4 = Conv2D(filters = n_G_filter * 4, \n",
    "                    kernel_size = k_size,\n",
    "                    strides = 2,\n",
    "                    padding = 'SAME',\n",
    "                    activation=None, \n",
    "                    kernel_initializer = tf.truncated_normal_initializer(stddev=0.02),\n",
    "                    bias_initializer = tf.constant_initializer(0.0), \n",
    "                    name = 'Conv_A3')(model_G_A3)\n",
    "\n",
    "input_G_B = Input(shape = (255, 255, 3), name = 'Input_B')\n",
    "\n",
    "model_G_B1 = Lambda(lambda tensor : tf.pad(tensor,[[0,0],[3,3],[3,3],[0,0]],\"REFLECT\"), \n",
    "                    name = 'Padding_B')(input_G_B)\n",
    "model_G_B2 = Conv2D(filters = n_G_filter, \n",
    "                    kernel_size = 7,\n",
    "                    padding = 'VALID',\n",
    "                    activation=None, \n",
    "                    kernel_initializer = tf.truncated_normal_initializer(stddev=0.02),\n",
    "                    bias_initializer = tf.constant_initializer(0.0), \n",
    "                    name = 'Conv_B1')(model_G_B1)\n",
    "\n",
    "model_G_B3 = Conv2D(filters = n_G_filter * 2, \n",
    "                    kernel_size = k_size,\n",
    "                    strides = 2,\n",
    "                    padding = 'SAME',\n",
    "                    activation=None, \n",
    "                    kernel_initializer = tf.truncated_normal_initializer(stddev=0.02),\n",
    "                    bias_initializer = tf.constant_initializer(0.0), \n",
    "                    name = 'Conv_B2')(model_G_B2)\n",
    "\n",
    "model_G_B4 = Conv2D(filters = n_G_filter * 4, \n",
    "                    kernel_size = k_size,\n",
    "                    strides = 2,\n",
    "                    padding = 'SAME',\n",
    "                    activation=None, \n",
    "                    kernel_initializer = tf.truncated_normal_initializer(stddev=0.02),\n",
    "                    bias_initializer = tf.constant_initializer(0.0), \n",
    "                    name = 'Conv_B3')(model_G_B3)\n",
    "\n",
    "merge_G = concatenate([model_G_A4, model_G_B4], name = 'Merge_AB')\n",
    "\n",
    "model = Model(inputs = [input_G_A, input_G_B], outputs = merge_G, name = 'Generator')"
   ]
  },
  {
   "cell_type": "code",
   "execution_count": 16,
   "metadata": {},
   "outputs": [
    {
     "name": "stdout",
     "output_type": "stream",
     "text": [
      "Model: \"Generator\"\n",
      "__________________________________________________________________________________________________\n",
      "Layer (type)                    Output Shape         Param #     Connected to                     \n",
      "==================================================================================================\n",
      "Input_A (InputLayer)            [(None, 255, 255, 3) 0                                            \n",
      "__________________________________________________________________________________________________\n",
      "Input_B (InputLayer)            [(None, 255, 255, 3) 0                                            \n",
      "__________________________________________________________________________________________________\n",
      "Padding_A (Lambda)              (None, 261, 261, 3)  0           Input_A[0][0]                    \n",
      "__________________________________________________________________________________________________\n",
      "Padding_B (Lambda)              (None, 261, 261, 3)  0           Input_B[0][0]                    \n",
      "__________________________________________________________________________________________________\n",
      "Conv_A1 (Conv2D)                (None, 255, 255, 32) 4736        Padding_A[0][0]                  \n",
      "__________________________________________________________________________________________________\n",
      "Conv_B1 (Conv2D)                (None, 255, 255, 32) 4736        Padding_B[0][0]                  \n",
      "__________________________________________________________________________________________________\n",
      "Conv_A2 (Conv2D)                (None, 128, 128, 64) 18496       Conv_A1[0][0]                    \n",
      "__________________________________________________________________________________________________\n",
      "Conv_B2 (Conv2D)                (None, 128, 128, 64) 18496       Conv_B1[0][0]                    \n",
      "__________________________________________________________________________________________________\n",
      "Conv_A3 (Conv2D)                (None, 64, 64, 128)  73856       Conv_A2[0][0]                    \n",
      "__________________________________________________________________________________________________\n",
      "Conv_B3 (Conv2D)                (None, 64, 64, 128)  73856       Conv_B2[0][0]                    \n",
      "__________________________________________________________________________________________________\n",
      "Merge_AB (Concatenate)          (None, 64, 64, 256)  0           Conv_A3[0][0]                    \n",
      "                                                                 Conv_B3[0][0]                    \n",
      "==================================================================================================\n",
      "Total params: 194,176\n",
      "Trainable params: 194,176\n",
      "Non-trainable params: 0\n",
      "__________________________________________________________________________________________________\n"
     ]
    }
   ],
   "source": [
    "model.summary()"
   ]
  },
  {
   "cell_type": "code",
   "execution_count": null,
   "metadata": {},
   "outputs": [],
   "source": []
  }
 ],
 "metadata": {
  "kernelspec": {
   "display_name": "Python 3",
   "language": "python",
   "name": "python3"
  },
  "language_info": {
   "codemirror_mode": {
    "name": "ipython",
    "version": 3
   },
   "file_extension": ".py",
   "mimetype": "text/x-python",
   "name": "python",
   "nbconvert_exporter": "python",
   "pygments_lexer": "ipython3",
   "version": "3.7.6"
  }
 },
 "nbformat": 4,
 "nbformat_minor": 4
}
