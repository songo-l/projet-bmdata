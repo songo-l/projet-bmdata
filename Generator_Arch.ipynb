{
 "cells": [
  {
   "cell_type": "code",
   "execution_count": 5,
   "metadata": {},
   "outputs": [],
   "source": [
    "import tensorflow as tf\n",
    "from tensorflow.keras.layers import Conv2D, Lambda, Input, concatenate\n",
    "from tensorflow.keras.models import Model"
   ]
  },
  {
   "cell_type": "code",
   "execution_count": 6,
   "metadata": {},
   "outputs": [],
   "source": [
    "n_G_filter = 32\n",
    "n_D_filter = 64\n",
    "\n",
    "k_size = 3\n",
    "# Image size 255 * 255 * 3\n",
    "\n",
    "input_G_A = Input(shape = (255, 255, 3))\n",
    "\n",
    "model_G_A1 = Lambda(lambda tensor : tf.pad(tensor,[[0,0],[3,3],[3,3],[0,0]],\"REFLECT\"))(input_G_A)\n",
    "model_G_A2 = Conv2D(filters = n_G_filter, \n",
    "                    kernel_size = 7,\n",
    "                    padding = 'VALID',\n",
    "                    activation=None, \n",
    "                    kernel_initializer = tf.truncated_normal_initializer(stddev=0.02),\n",
    "                    bias_initializer = tf.constant_initializer(0.0))(model_G_A1)\n",
    "\n",
    "model_G_A3 = Conv2D(filters = n_G_filter * 2, \n",
    "                            kernel_size = k_size,\n",
    "                            strides = 2,\n",
    "                            padding = 'SAME',\n",
    "                            activation=None, \n",
    "                            kernel_initializer = tf.truncated_normal_initializer(stddev=0.02),\n",
    "                            bias_initializer = tf.constant_initializer(0.0))(model_G_A2)\n",
    "\n",
    "model_G_A4 = Conv2D(filters = n_G_filter * 4, \n",
    "                            kernel_size = k_size,\n",
    "                            strides = 2,\n",
    "                            padding = 'SAME',\n",
    "                            activation=None, \n",
    "                            kernel_initializer = tf.truncated_normal_initializer(stddev=0.02),\n",
    "                            bias_initializer = tf.constant_initializer(0.0))(model_G_A3)\n",
    "\n",
    "input_G_B = Input(shape = (255, 255, 3))\n",
    "\n",
    "model_G_B1 = Lambda(lambda tensor : tf.pad(tensor,[[0,0],[3,3],[3,3],[0,0]],\"REFLECT\"))(input_G_B)\n",
    "model_G_B2 = Conv2D(filters = n_G_filter, \n",
    "                    kernel_size = 7,\n",
    "                    padding = 'VALID',\n",
    "                    activation=None, \n",
    "                    kernel_initializer = tf.truncated_normal_initializer(stddev=0.02),\n",
    "                    bias_initializer = tf.constant_initializer(0.0))(model_G_B1)\n",
    "\n",
    "model_G_B3 = Conv2D(filters = n_G_filter * 2, \n",
    "                            kernel_size = k_size,\n",
    "                            strides = 2,\n",
    "                            padding = 'SAME',\n",
    "                            activation=None, \n",
    "                            kernel_initializer = tf.truncated_normal_initializer(stddev=0.02),\n",
    "                            bias_initializer = tf.constant_initializer(0.0))(model_G_B2)\n",
    "\n",
    "model_G_B4 = Conv2D(filters = n_G_filter * 4, \n",
    "                            kernel_size = k_size,\n",
    "                            strides = 2,\n",
    "                            padding = 'SAME',\n",
    "                            activation=None, \n",
    "                            kernel_initializer = tf.truncated_normal_initializer(stddev=0.02),\n",
    "                            bias_initializer = tf.constant_initializer(0.0))(model_G_B3)\n",
    "\n",
    "merge_G = concatenate([model_G_A4, model_G_B4])\n",
    "\n",
    "model = Model(inputs = [input_G_A, input_G_B], outputs = merge_G)"
   ]
  },
  {
   "cell_type": "code",
   "execution_count": 7,
   "metadata": {},
   "outputs": [
    {
     "name": "stdout",
     "output_type": "stream",
     "text": [
      "Model: \"model\"\n",
      "__________________________________________________________________________________________________\n",
      "Layer (type)                    Output Shape         Param #     Connected to                     \n",
      "==================================================================================================\n",
      "input_3 (InputLayer)            [(None, 255, 255, 3) 0                                            \n",
      "__________________________________________________________________________________________________\n",
      "input_4 (InputLayer)            [(None, 255, 255, 3) 0                                            \n",
      "__________________________________________________________________________________________________\n",
      "lambda_2 (Lambda)               (None, 261, 261, 3)  0           input_3[0][0]                    \n",
      "__________________________________________________________________________________________________\n",
      "lambda_3 (Lambda)               (None, 261, 261, 3)  0           input_4[0][0]                    \n",
      "__________________________________________________________________________________________________\n",
      "conv2d_6 (Conv2D)               (None, 255, 255, 32) 4736        lambda_2[0][0]                   \n",
      "__________________________________________________________________________________________________\n",
      "conv2d_9 (Conv2D)               (None, 255, 255, 32) 4736        lambda_3[0][0]                   \n",
      "__________________________________________________________________________________________________\n",
      "conv2d_7 (Conv2D)               (None, 128, 128, 64) 18496       conv2d_6[0][0]                   \n",
      "__________________________________________________________________________________________________\n",
      "conv2d_10 (Conv2D)              (None, 128, 128, 64) 18496       conv2d_9[0][0]                   \n",
      "__________________________________________________________________________________________________\n",
      "conv2d_8 (Conv2D)               (None, 64, 64, 128)  73856       conv2d_7[0][0]                   \n",
      "__________________________________________________________________________________________________\n",
      "conv2d_11 (Conv2D)              (None, 64, 64, 128)  73856       conv2d_10[0][0]                  \n",
      "__________________________________________________________________________________________________\n",
      "concatenate (Concatenate)       (None, 64, 64, 256)  0           conv2d_8[0][0]                   \n",
      "                                                                 conv2d_11[0][0]                  \n",
      "==================================================================================================\n",
      "Total params: 194,176\n",
      "Trainable params: 194,176\n",
      "Non-trainable params: 0\n",
      "__________________________________________________________________________________________________\n"
     ]
    }
   ],
   "source": [
    "model.summary()"
   ]
  },
  {
   "cell_type": "code",
   "execution_count": null,
   "metadata": {},
   "outputs": [],
   "source": []
  }
 ],
 "metadata": {
  "kernelspec": {
   "display_name": "Python 3",
   "language": "python",
   "name": "python3"
  },
  "language_info": {
   "codemirror_mode": {
    "name": "ipython",
    "version": 3
   },
   "file_extension": ".py",
   "mimetype": "text/x-python",
   "name": "python",
   "nbconvert_exporter": "python",
   "pygments_lexer": "ipython3",
   "version": "3.7.6"
  }
 },
 "nbformat": 4,
 "nbformat_minor": 4
}
